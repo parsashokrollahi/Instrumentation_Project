{
  "nbformat": 4,
  "nbformat_minor": 0,
  "metadata": {
    "colab": {
      "provenance": [],
      "authorship_tag": "ABX9TyN9bCUND1v94QL8P7f3rskr",
      "include_colab_link": true
    },
    "kernelspec": {
      "name": "python3",
      "display_name": "Python 3"
    },
    "language_info": {
      "name": "python"
    }
  },
  "cells": [
    {
      "cell_type": "markdown",
      "metadata": {
        "id": "view-in-github",
        "colab_type": "text"
      },
      "source": [
        "<a href=\"https://colab.research.google.com/github/parsashokrollahi/Instrumentation_Project/blob/main/making%20server.ipynb\" target=\"_parent\"><img src=\"https://colab.research.google.com/assets/colab-badge.svg\" alt=\"Open In Colab\"/></a>"
      ]
    },
    {
      "cell_type": "code",
      "execution_count": 11,
      "metadata": {
        "colab": {
          "base_uri": "https://localhost:8080/"
        },
        "id": "FMeSokEs8j5c",
        "outputId": "2f59cbac-831c-4530-bd14-b3bcd50afcbc"
      },
      "outputs": [
        {
          "output_type": "stream",
          "name": "stdout",
          "text": [
            "Cloning into 'Instrumentation_Project'...\n",
            "remote: Enumerating objects: 7, done.\u001b[K\n",
            "remote: Counting objects: 100% (7/7), done.\u001b[K\n",
            "remote: Compressing objects: 100% (7/7), done.\u001b[K\n",
            "remote: Total 7 (delta 1), reused 0 (delta 0), pack-reused 0\u001b[K\n",
            "Receiving objects: 100% (7/7), done.\n",
            "Resolving deltas: 100% (1/1), done.\n"
          ]
        }
      ],
      "source": [
        "!git clone https://github.com/parsashokrollahi/Instrumentation_Project.git\n",
        "\n"
      ]
    },
    {
      "cell_type": "code",
      "source": [
        "%cd Instrumentation_Project\n"
      ],
      "metadata": {
        "colab": {
          "base_uri": "https://localhost:8080/"
        },
        "id": "t3R273p2FTHq",
        "outputId": "9708ae14-0ddf-473c-82f6-a6595b13f80e"
      },
      "execution_count": 14,
      "outputs": [
        {
          "output_type": "stream",
          "name": "stdout",
          "text": [
            "/content/Instrumentation_Project\n"
          ]
        }
      ]
    },
    {
      "cell_type": "code",
      "source": [
        "# Create a file named server.py\n",
        "%%writefile server.py\n",
        "\n",
        "from http.server import BaseHTTPRequestHandler, HTTPServer\n",
        "import serial\n",
        "\n",
        "# Set the serial port for Arduino\n",
        "serial_port = '/dev/ttyUSB0'  # Replace with the correct port for your Arduino\n",
        "\n",
        "class RequestHandler(BaseHTTPRequestHandler):\n",
        "    def do_GET(self):\n",
        "        if self.path == '/arduino':\n",
        "            try:\n",
        "                with serial.Serial(serial_port, 9600, timeout=1) as ser:\n",
        "                    arduino_output = ser.readline().decode('utf-8')\n",
        "                self.send_response(200)\n",
        "                self.send_header('Content-type', 'text/html')\n",
        "                self.end_headers()\n",
        "                self.wfile.write(arduino_output.encode())\n",
        "            except Exception as e:\n",
        "                self.send_response(500)\n",
        "                self.send_header('Content-type', 'text/html')\n",
        "                self.end_headers()\n",
        "                self.wfile.write(str(e).encode())\n",
        "        else:\n",
        "            self.send_response(404)\n",
        "            self.send_header('Content-type', 'text/html')\n",
        "            self.end_headers()\n",
        "            self.wfile.write(b'Not Found')\n",
        "\n",
        "def run():\n",
        "    port = 8080  # Change to a different port number\n",
        "    server_address = ('', port)\n",
        "    httpd = HTTPServer(server_address, RequestHandler)\n",
        "    print(f'Serving on port {port}')\n",
        "    httpd.serve_forever()\n",
        "\n"
      ],
      "metadata": {
        "colab": {
          "base_uri": "https://localhost:8080/"
        },
        "id": "gPu5y_JwFhlu",
        "outputId": "8a73018a-e24d-4296-e2d3-d5b871eea3d7"
      },
      "execution_count": 19,
      "outputs": [
        {
          "output_type": "stream",
          "name": "stdout",
          "text": [
            "Overwriting server.py\n"
          ]
        }
      ]
    },
    {
      "cell_type": "code",
      "source": [
        "!pip install pyserial\n"
      ],
      "metadata": {
        "colab": {
          "base_uri": "https://localhost:8080/"
        },
        "id": "yv1LchKOFz3J",
        "outputId": "d0500590-6533-47c9-c0a1-dd662e7414ab"
      },
      "execution_count": 17,
      "outputs": [
        {
          "output_type": "stream",
          "name": "stdout",
          "text": [
            "Collecting pyserial\n",
            "  Downloading pyserial-3.5-py2.py3-none-any.whl (90 kB)\n",
            "\u001b[2K     \u001b[90m━━━━━━━━━━━━━━━━━━━━━━━━━━━━━━━━━━━━━━━━\u001b[0m \u001b[32m90.6/90.6 kB\u001b[0m \u001b[31m1.8 MB/s\u001b[0m eta \u001b[36m0:00:00\u001b[0m\n",
            "\u001b[?25hInstalling collected packages: pyserial\n",
            "Successfully installed pyserial-3.5\n"
          ]
        }
      ]
    },
    {
      "cell_type": "code",
      "source": [
        "!python server.py\n"
      ],
      "metadata": {
        "id": "E7_JPz6TF4kB"
      },
      "execution_count": 21,
      "outputs": []
    }
  ]
}